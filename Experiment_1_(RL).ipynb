{
  "nbformat": 4,
  "nbformat_minor": 0,
  "metadata": {
    "colab": {
      "provenance": [],
      "authorship_tag": "ABX9TyPaNKzRqXDGXB+kFOSuBCNF",
      "include_colab_link": true
    },
    "kernelspec": {
      "name": "python3",
      "display_name": "Python 3"
    },
    "language_info": {
      "name": "python"
    }
  },
  "cells": [
    {
      "cell_type": "markdown",
      "metadata": {
        "id": "view-in-github",
        "colab_type": "text"
      },
      "source": [
        "<a href=\"https://colab.research.google.com/github/utkarshsehrawat/RL/blob/main/Experiment_1_(RL).ipynb\" target=\"_parent\"><img src=\"https://colab.research.google.com/assets/colab-badge.svg\" alt=\"Open In Colab\"/></a>"
      ]
    },
    {
      "cell_type": "code",
      "execution_count": 1,
      "metadata": {
        "colab": {
          "base_uri": "https://localhost:8080/"
        },
        "id": "4VSk4H7hqd4C",
        "outputId": "4c9c14ff-31ae-4a76-91eb-74f964d91800"
      },
      "outputs": [
        {
          "output_type": "stream",
          "name": "stdout",
          "text": [
            "Python 3.10.12\n"
          ]
        }
      ],
      "source": [
        "!python --version"
      ]
    },
    {
      "cell_type": "code",
      "source": [
        "def quicksort(arr):\n",
        "  if len(arr) <=1:\n",
        "    return arr\n",
        "  pivot = arr[len(arr) // 2]\n",
        "  left = [x for x in arr if x < pivot]\n",
        "  middle = [x for x in arr if x == pivot]\n",
        "  right = [x for x in arr if x > pivot]\n",
        "  return quicksort(left) + middle + quicksort(right)\n",
        "print(quicksort([5,14,8,2,7,1,9]))"
      ],
      "metadata": {
        "colab": {
          "base_uri": "https://localhost:8080/"
        },
        "id": "zeHFV4H8sPMF",
        "outputId": "039dd9cd-c445-4071-e564-7378c0b170db"
      },
      "execution_count": 6,
      "outputs": [
        {
          "output_type": "stream",
          "name": "stdout",
          "text": [
            "[1, 2, 5, 7, 8, 9, 14]\n"
          ]
        }
      ]
    },
    {
      "cell_type": "code",
      "source": [
        "x=3\n",
        "print(x, type(x))"
      ],
      "metadata": {
        "colab": {
          "base_uri": "https://localhost:8080/"
        },
        "id": "1l_kYF2qubcR",
        "outputId": "b7b618a8-4236-4825-f60e-3132a81dfa25"
      },
      "execution_count": 7,
      "outputs": [
        {
          "output_type": "stream",
          "name": "stdout",
          "text": [
            "3 <class 'int'>\n"
          ]
        }
      ]
    },
    {
      "cell_type": "code",
      "source": [
        "print(x+1)\n",
        "print(x-1)\n",
        "print(x*2)\n",
        "print(x**2)"
      ],
      "metadata": {
        "colab": {
          "base_uri": "https://localhost:8080/"
        },
        "id": "xxCwdS7UuxGa",
        "outputId": "86cecad6-ebe5-42cd-b23e-73b5f5159268"
      },
      "execution_count": 8,
      "outputs": [
        {
          "output_type": "stream",
          "name": "stdout",
          "text": [
            "4\n",
            "2\n",
            "6\n",
            "9\n"
          ]
        }
      ]
    },
    {
      "cell_type": "code",
      "source": [
        "x += 1\n",
        "print(x)\n",
        "x *=2\n",
        "print(x)"
      ],
      "metadata": {
        "colab": {
          "base_uri": "https://localhost:8080/"
        },
        "id": "LbTmBHrKvNFA",
        "outputId": "31e08170-74f6-4c9b-d756-13adfbcdad54"
      },
      "execution_count": 9,
      "outputs": [
        {
          "output_type": "stream",
          "name": "stdout",
          "text": [
            "4\n",
            "8\n"
          ]
        }
      ]
    },
    {
      "cell_type": "code",
      "source": [
        "y= 2.5\n",
        "print(type(y))\n",
        "print(y,y+1,y*2,y**2)"
      ],
      "metadata": {
        "colab": {
          "base_uri": "https://localhost:8080/"
        },
        "id": "xMsJ52xqwCf0",
        "outputId": "ffe1b2cf-4248-4f79-a06c-90c847a02d03"
      },
      "execution_count": 10,
      "outputs": [
        {
          "output_type": "stream",
          "name": "stdout",
          "text": [
            "<class 'float'>\n",
            "2.5 3.5 5.0 6.25\n"
          ]
        }
      ]
    },
    {
      "cell_type": "code",
      "source": [
        "y= 3.14159265359\n",
        "print(type(y))\n",
        "print(y,y+1,y*2,y**2)"
      ],
      "metadata": {
        "colab": {
          "base_uri": "https://localhost:8080/"
        },
        "id": "Ib-syt_owYSC",
        "outputId": "655fca85-096e-4325-a451-b59430c399d6"
      },
      "execution_count": 12,
      "outputs": [
        {
          "output_type": "stream",
          "name": "stdout",
          "text": [
            "<class 'float'>\n",
            "3.14159265359 4.14159265359 6.28318530718 9.869604401090658\n"
          ]
        }
      ]
    },
    {
      "cell_type": "code",
      "source": [
        "t,f= True,False\n",
        "print(t and f)\n",
        "print(t or f)\n",
        "print(not t)\n",
        "print(t != f)"
      ],
      "metadata": {
        "colab": {
          "base_uri": "https://localhost:8080/"
        },
        "id": "GI42GiKzwvQA",
        "outputId": "470d62e9-fa5a-4a3b-855d-c34b3c404530"
      },
      "execution_count": 14,
      "outputs": [
        {
          "output_type": "stream",
          "name": "stdout",
          "text": [
            "False\n",
            "True\n",
            "False\n",
            "True\n"
          ]
        }
      ]
    },
    {
      "cell_type": "code",
      "source": [
        "hello= 'hello'\n",
        "world= \"hello\"\n",
        "print(hello, len(hello))"
      ],
      "metadata": {
        "colab": {
          "base_uri": "https://localhost:8080/"
        },
        "id": "roqRC0Tyxlcg",
        "outputId": "028e2003-1b7c-49e4-c69a-19abb2553b71"
      },
      "execution_count": 15,
      "outputs": [
        {
          "output_type": "stream",
          "name": "stdout",
          "text": [
            "hello 5\n"
          ]
        }
      ]
    },
    {
      "cell_type": "code",
      "source": [
        "F= 'Utkarsh'\n",
        "S= \"Sehrawat\"\n",
        "print(F+ S, len(F+ S))"
      ],
      "metadata": {
        "colab": {
          "base_uri": "https://localhost:8080/"
        },
        "id": "7CKV41mXx6be",
        "outputId": "d69b51f0-11fc-4b5e-aca2-51678f400524"
      },
      "execution_count": 20,
      "outputs": [
        {
          "output_type": "stream",
          "name": "stdout",
          "text": [
            "UtkarshSehrawat 15\n"
          ]
        }
      ]
    },
    {
      "cell_type": "code",
      "source": [
        "hw= hello + \" \" + world\n",
        "print(hw)"
      ],
      "metadata": {
        "colab": {
          "base_uri": "https://localhost:8080/"
        },
        "id": "__M1M-_AzIlS",
        "outputId": "eae8b1a6-c833-4890-9826-e58180510aff"
      },
      "execution_count": 21,
      "outputs": [
        {
          "output_type": "stream",
          "name": "stdout",
          "text": [
            "Utkarsh Sehrawat\n"
          ]
        }
      ]
    },
    {
      "cell_type": "code",
      "source": [
        "hw12= '{} {} {}'.format(hello, world,12)\n",
        "print(hw12)"
      ],
      "metadata": {
        "colab": {
          "base_uri": "https://localhost:8080/"
        },
        "id": "iOWnFc_0zb-Z",
        "outputId": "2f2a3b48-c48d-4d16-8ae2-649cf083997a"
      },
      "execution_count": 23,
      "outputs": [
        {
          "output_type": "stream",
          "name": "stdout",
          "text": [
            "Utkarsh Sehrawat 12\n"
          ]
        }
      ]
    },
    {
      "cell_type": "code",
      "source": [
        "s= \"Utkarsh\"\n",
        "print(s.capitalize())\n",
        "print(s.upper())\n",
        "print(s.rjust(9))\n",
        "print(s.center(9))\n",
        "print(s.replace('h','(ell)'))\n",
        "print('Sehrawat'.strip())"
      ],
      "metadata": {
        "colab": {
          "base_uri": "https://localhost:8080/"
        },
        "id": "1bErXT1v0NKV",
        "outputId": "18c46aae-9a50-4f57-9e71-bf81bd720ff6"
      },
      "execution_count": 35,
      "outputs": [
        {
          "output_type": "stream",
          "name": "stdout",
          "text": [
            "Utkarsh\n",
            "UTKARSH\n",
            "  Utkarsh\n",
            " Utkarsh \n",
            "Utkars(ell)\n",
            "Sehrawat\n"
          ]
        }
      ]
    },
    {
      "cell_type": "code",
      "source": [
        "xs= [3,1,2]\n",
        "print(xs,xs[2])\n",
        "print(xs[-2])"
      ],
      "metadata": {
        "colab": {
          "base_uri": "https://localhost:8080/"
        },
        "id": "cp3n7AU443eR",
        "outputId": "b01ff660-09ec-4daa-fa16-15eb0b60fcdf"
      },
      "execution_count": 40,
      "outputs": [
        {
          "output_type": "stream",
          "name": "stdout",
          "text": [
            "[3, 1, 2] 2\n",
            "1\n"
          ]
        }
      ]
    },
    {
      "cell_type": "code",
      "source": [
        "xs[2]='foo'\n",
        "print(xs)"
      ],
      "metadata": {
        "colab": {
          "base_uri": "https://localhost:8080/"
        },
        "id": "ZcNXfinP5EKX",
        "outputId": "785b08fb-f256-4c97-ac7f-046e85e7d096"
      },
      "execution_count": 37,
      "outputs": [
        {
          "output_type": "stream",
          "name": "stdout",
          "text": [
            "[3, 1, 'foo']\n"
          ]
        }
      ]
    },
    {
      "cell_type": "code",
      "source": [
        "xs.append('bar')\n",
        "print(xs)"
      ],
      "metadata": {
        "colab": {
          "base_uri": "https://localhost:8080/"
        },
        "id": "VhkrUZd75K7I",
        "outputId": "a24bfa02-2766-4d58-989f-2ccce0b36284"
      },
      "execution_count": 38,
      "outputs": [
        {
          "output_type": "stream",
          "name": "stdout",
          "text": [
            "[3, 1, 'foo', 'bar']\n"
          ]
        }
      ]
    },
    {
      "cell_type": "code",
      "source": [
        "nums = list(range(10))\n",
        "print(nums)\n",
        "print(nums[2:4])\n",
        "print(nums[2:])\n",
        "print(nums[:2])\n",
        "print(nums[:])\n",
        "print(nums[:-1])\n",
        "nums[2:4] = [8,9]\n",
        "print(nums)"
      ],
      "metadata": {
        "colab": {
          "base_uri": "https://localhost:8080/"
        },
        "id": "YXW2lF3T7LW7",
        "outputId": "d8ef3462-5421-4736-e2ae-188f6fda6d9f"
      },
      "execution_count": 42,
      "outputs": [
        {
          "output_type": "stream",
          "name": "stdout",
          "text": [
            "[0, 1, 2, 3, 4, 5, 6, 7, 8, 9]\n",
            "[2, 3]\n",
            "[2, 3, 4, 5, 6, 7, 8, 9]\n",
            "[0, 1]\n",
            "[0, 1, 2, 3, 4, 5, 6, 7, 8, 9]\n",
            "[0, 1, 2, 3, 4, 5, 6, 7, 8]\n",
            "[0, 1, 8, 9, 5, 4, 5, 6, 7, 8, 9]\n"
          ]
        }
      ]
    },
    {
      "cell_type": "code",
      "source": [
        "animals = ['cat','dog','monkey']\n",
        "for animals in animals:\n",
        "  print(animals)"
      ],
      "metadata": {
        "colab": {
          "base_uri": "https://localhost:8080/"
        },
        "id": "LoLdnb5g9N29",
        "outputId": "eb4042a5-c87c-4dc8-acb5-fb201a8716b7"
      },
      "execution_count": 43,
      "outputs": [
        {
          "output_type": "stream",
          "name": "stdout",
          "text": [
            "cat\n",
            "dog\n",
            "monkey\n"
          ]
        }
      ]
    },
    {
      "cell_type": "code",
      "source": [
        "animals = ['cat','dog','monkey']\n",
        "for idx, animal in enumerate(animals):\n",
        "  print('#{}: {}'.format(idx+ 1,animal))"
      ],
      "metadata": {
        "colab": {
          "base_uri": "https://localhost:8080/"
        },
        "id": "5ruqZYHp9iIX",
        "outputId": "5306b9c6-5932-44c8-b2f9-946b135affaf"
      },
      "execution_count": 44,
      "outputs": [
        {
          "output_type": "stream",
          "name": "stdout",
          "text": [
            "#1: cat\n",
            "#2: dog\n",
            "#3: monkey\n"
          ]
        }
      ]
    }
  ]
}